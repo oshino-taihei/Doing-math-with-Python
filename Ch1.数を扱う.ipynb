{
 "cells": [
  {
   "cell_type": "code",
   "execution_count": 26,
   "metadata": {
    "collapsed": true
   },
   "outputs": [],
   "source": [
    "# 整数の因数を列挙する\n",
    "def factors(b):\n",
    "    for i in range(1, b+1):\n",
    "        if b % i == 0:\n",
    "            print(i)"
   ]
  },
  {
   "cell_type": "code",
   "execution_count": 27,
   "metadata": {},
   "outputs": [
    {
     "name": "stdout",
     "output_type": "stream",
     "text": [
      "1\n",
      "2\n",
      "3\n",
      "4\n",
      "6\n",
      "8\n",
      "12\n",
      "24\n"
     ]
    }
   ],
   "source": [
    "factors(24)"
   ]
  },
  {
   "cell_type": "code",
   "execution_count": 32,
   "metadata": {
    "collapsed": true
   },
   "outputs": [],
   "source": [
    "# 2次方程式の解 ax^2+bx+c = 0\n",
    "def roots(a, b, c):\n",
    "    d = (b**2 - 4*a*c)**0.5\n",
    "    x1 = (-b + d) / (2*a)\n",
    "    x2 = (-b - d) / (2*a)\n",
    "    if x1 == x2:\n",
    "        print('answer = {0}'.format(x1))\n",
    "    else:\n",
    "        print('answer = {0} and {1}'.format(x1, x2))"
   ]
  },
  {
   "cell_type": "code",
   "execution_count": 37,
   "metadata": {},
   "outputs": [
    {
     "name": "stdout",
     "output_type": "stream",
     "text": [
      "answer = 3.0 and 1.0\n"
     ]
    }
   ],
   "source": [
    "roots(1, -4, 3)"
   ]
  },
  {
   "cell_type": "code",
   "execution_count": 39,
   "metadata": {},
   "outputs": [
    {
     "name": "stdout",
     "output_type": "stream",
     "text": [
      "answer = -5.0\n"
     ]
    }
   ],
   "source": [
    "roots(1, 10, 25)"
   ]
  },
  {
   "cell_type": "code",
   "execution_count": 40,
   "metadata": {},
   "outputs": [
    {
     "name": "stdout",
     "output_type": "stream",
     "text": [
      "answer = (-0.49999999999999994+0.8660254037844386j) and (-0.5-0.8660254037844386j)\n"
     ]
    }
   ],
   "source": [
    "roots(1, 1, 1)"
   ]
  },
  {
   "cell_type": "code",
   "execution_count": 45,
   "metadata": {
    "collapsed": true
   },
   "outputs": [],
   "source": []
  }
 ],
 "metadata": {
  "kernelspec": {
   "display_name": "Python 3",
   "language": "python",
   "name": "python3"
  },
  "language_info": {
   "codemirror_mode": {
    "name": "ipython",
    "version": 3
   },
   "file_extension": ".py",
   "mimetype": "text/x-python",
   "name": "python",
   "nbconvert_exporter": "python",
   "pygments_lexer": "ipython3",
   "version": "3.6.1"
  }
 },
 "nbformat": 4,
 "nbformat_minor": 2
}

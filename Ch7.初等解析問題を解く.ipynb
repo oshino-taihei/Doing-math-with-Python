{
 "cells": [
  {
   "cell_type": "code",
   "execution_count": 71,
   "metadata": {},
   "outputs": [],
   "source": [
    "import math\n",
    "import sympy\n",
    "from sympy import Symbol, symbols, S, Limit, Derivative, Integral, solve, sin, log, exp, sqrt, pi\n",
    "from sympy.plotting import plot"
   ]
  },
  {
   "cell_type": "code",
   "execution_count": 4,
   "metadata": {},
   "outputs": [
    {
     "data": {
      "text/plain": [
       "1.00000000000000"
      ]
     },
     "execution_count": 4,
     "metadata": {},
     "output_type": "execute_result"
    }
   ],
   "source": [
    "sympy.sin(math.pi / 2)"
   ]
  },
  {
   "cell_type": "code",
   "execution_count": 5,
   "metadata": {},
   "outputs": [
    {
     "data": {
      "text/plain": [
       "[{g: u*sin(theta)/t**2}]"
      ]
     },
     "execution_count": 5,
     "metadata": {},
     "output_type": "execute_result"
    }
   ],
   "source": [
    "theta = Symbol('theta')\n",
    "u, t, g = symbols('u,t,g')\n",
    "solve(u * sin(theta) - g * t**2)"
   ]
  },
  {
   "cell_type": "code",
   "execution_count": 6,
   "metadata": {},
   "outputs": [
    {
     "data": {
      "text/plain": [
       "Limit(1/x, x, oo, dir='-')"
      ]
     },
     "execution_count": 6,
     "metadata": {},
     "output_type": "execute_result"
    }
   ],
   "source": [
    "# 関数の極限\n",
    "x = Symbol('x')\n",
    "Limit(1/x, x, S.Infinity) # x -> ∞"
   ]
  },
  {
   "cell_type": "code",
   "execution_count": 7,
   "metadata": {},
   "outputs": [
    {
     "data": {
      "text/plain": [
       "0"
      ]
     },
     "execution_count": 7,
     "metadata": {},
     "output_type": "execute_result"
    }
   ],
   "source": [
    "# 極限値\n",
    "l = Limit(1/x, x, S.Infinity)\n",
    "l.doit()"
   ]
  },
  {
   "cell_type": "code",
   "execution_count": 8,
   "metadata": {},
   "outputs": [
    {
     "data": {
      "text/plain": [
       "E"
      ]
     },
     "execution_count": 8,
     "metadata": {},
     "output_type": "execute_result"
    }
   ],
   "source": [
    "# 連続複利\n",
    "# (1 + 1/n)^n はeに収束する\n",
    "n = Symbol('n')\n",
    "Limit((1 + 1/n)**n, n, S.Infinity).doit()"
   ]
  },
  {
   "cell_type": "code",
   "execution_count": 9,
   "metadata": {},
   "outputs": [
    {
     "data": {
      "text/plain": [
       "p*exp(r*t)"
      ]
     },
     "execution_count": 9,
     "metadata": {},
     "output_type": "execute_result"
    }
   ],
   "source": [
    "p,r,t = symbols('p,r,t')\n",
    "Limit(p*(1+r/n)**(n*t), n, S.Infinity).doit()"
   ]
  },
  {
   "cell_type": "code",
   "execution_count": 10,
   "metadata": {},
   "outputs": [
    {
     "data": {
      "text/plain": [
       "10*t1 + 2"
      ]
     },
     "execution_count": 10,
     "metadata": {},
     "output_type": "execute_result"
    }
   ],
   "source": [
    "# 微分(定義通り、変化の割合の極限として算出)\n",
    "t = Symbol('t')\n",
    "st = 5*t**2 + 2*t + 8\n",
    "t1, dt = symbols('t1,dt')\n",
    "Limit((st.subs({t: t1 + dt}) - st.subs({t: t1})) / dt, dt, 0).doit()"
   ]
  },
  {
   "cell_type": "code",
   "execution_count": 11,
   "metadata": {},
   "outputs": [
    {
     "data": {
      "text/plain": [
       "10*t + 2"
      ]
     },
     "execution_count": 11,
     "metadata": {},
     "output_type": "execute_result"
    }
   ],
   "source": [
    "# 微分(Derivativeクラス)\n",
    "d = Derivative(st, t)\n",
    "d.doit()"
   ]
  },
  {
   "cell_type": "code",
   "execution_count": 12,
   "metadata": {},
   "outputs": [
    {
     "name": "stdout",
     "output_type": "stream",
     "text": [
      "df/dx = y**2 + 2*y\n",
      "df/dy = 2*x*y + 2*x\n"
     ]
    }
   ],
   "source": [
    "# 偏微分\n",
    "x, y = symbols('x,y')\n",
    "f = 2*x*y + x*y**2\n",
    "print('df/dx = {0}'.format(Derivative(f, x).doit()))\n",
    "print('df/dy = {0}'.format(Derivative(f, y).doit()))"
   ]
  },
  {
   "cell_type": "code",
   "execution_count": 13,
   "metadata": {},
   "outputs": [
    {
     "data": {
      "image/png": "[encoded data removed]",
      "text/plain": [
       "<matplotlib.figure.Figure at 0x109e5c080>"
      ]
     },
     "metadata": {},
     "output_type": "display_data"
    }
   ],
   "source": [
    "# 微分のプロット\n",
    "x = Symbol('x')\n",
    "f  = x**2+2*x+1\n",
    "\n",
    "# f(x)x=x0での接線を求める\n",
    "def tangent_line(f, x, x0):\n",
    "    # 接線 y = a*x + b とすると、aは微分係数なので、bを算出する\n",
    "    a = Derivative(f, x).doit().subs({x: x0})\n",
    "    b = (f - a * x).subs({x: x0})\n",
    "    return a*x + b\n",
    "\n",
    "# fの接線t\n",
    "t = tangent_line(f, x, 3)\n",
    "\n",
    "# fと接線tを描画\n",
    "p = plot(f, t, legend=True, show=False)\n",
    "p[0].line_color = 'b'\n",
    "p[1].line_color = 'r'\n",
    "p.show()"
   ]
  },
  {
   "cell_type": "code",
   "execution_count": 61,
   "metadata": {
    "collapsed": true
   },
   "outputs": [],
   "source": [
    "#  勾配上昇方でf(x)の極大値を求める(x0は初期値)\n",
    "# 勾配をθとして、\n",
    "# θ新 = θ旧 + (step_size) * df / dθ として、更新される大きさがε(e)より小さくなるまで繰り返す\n",
    "def grad_ascent(f, x, x0):\n",
    "    e = 1e-3 # 0.001\n",
    "    step_size = 1e-1 # 0.1\n",
    "    df = Derivative(f, x).doit()\n",
    "    # df=0が存在しない場合はε以下になることがないため、アルゴリズムが停止しないのでエラー\n",
    "    if not solve(df):\n",
    "        print('Cannot continue, solution for {0}=0 does not exist'.format(df))\n",
    "        return\n",
    "    next_step = lambda x0: x0 + step_size * df.subs({x: x0}).evalf()\n",
    "    x_old = x0\n",
    "    x_new = next_step(x_old)\n",
    "    while abs(x_new - x_old) > e:\n",
    "        x_old = x_new\n",
    "        x_new = next_step(x_old)\n",
    "    return x_new"
   ]
  },
  {
   "cell_type": "code",
   "execution_count": 62,
   "metadata": {},
   "outputs": [
    {
     "data": {
      "image/png": "[encoded data removed]",
      "text/plain": [
       "<matplotlib.figure.Figure at 0x1139ceb00>"
      ]
     },
     "metadata": {},
     "output_type": "display_data"
    },
    {
     "name": "stdout",
     "output_type": "stream",
     "text": [
      "max=(1.00396140812571, -0.0000156927543386587)\n"
     ]
    }
   ],
   "source": [
    "f = -x**2+2*x-1 # 最大値は(1, 0)\n",
    "gx = grad_ascent(f, x, 5)\n",
    "p = plot(f, xlim=[-10, 10], ylim=[-50, 10], legend=True, show=False)\n",
    "p.show()\n",
    "print(\"max=({0}, {1})\".format(gx, f.subs({x: gx})))"
   ]
  },
  {
   "cell_type": "code",
   "execution_count": 63,
   "metadata": {},
   "outputs": [
    {
     "name": "stdout",
     "output_type": "stream",
     "text": [
      "Cannot continue, solution for 1/x=0 does not exist\n"
     ]
    }
   ],
   "source": [
    "grad_ascent(log(x), x, 5)"
   ]
  },
  {
   "cell_type": "code",
   "execution_count": 67,
   "metadata": {},
   "outputs": [
    {
     "data": {
      "text/plain": [
       "k*x**2/2"
      ]
     },
     "execution_count": 67,
     "metadata": {},
     "output_type": "execute_result"
    }
   ],
   "source": [
    "# 積分\n",
    "x, k = symbols('x,k')\n",
    "Integral(k*x, x).doit()"
   ]
  },
  {
   "cell_type": "code",
   "execution_count": 68,
   "metadata": {},
   "outputs": [
    {
     "data": {
      "text/plain": [
       "2*k"
      ]
     },
     "execution_count": 68,
     "metadata": {},
     "output_type": "execute_result"
    }
   ],
   "source": [
    "# 定積分\n",
    "Integral(k*x, (x, 0, 2)).doit()"
   ]
  },
  {
   "cell_type": "code",
   "execution_count": 69,
   "metadata": {},
   "outputs": [
    {
     "data": {
      "text/plain": [
       "6"
      ]
     },
     "execution_count": 69,
     "metadata": {},
     "output_type": "execute_result"
    }
   ],
   "source": [
    "Integral(x, (x, 2, 4)).doit()"
   ]
  },
  {
   "cell_type": "code",
   "execution_count": 86,
   "metadata": {},
   "outputs": [
    {
     "name": "stdout",
     "output_type": "stream",
     "text": [
      "x<|ρ| ρ=1: 0.682689492137086\n",
      "x<|ρ| ρ=2: 0.954499736103642\n",
      "x<|ρ| ρ=3: 0.997300203936740\n",
      "-∞<x<∞: 1.00000000000000\n"
     ]
    },
    {
     "data": {
      "image/png": "[encoded data removed]",
      "text/plain": [
       "<matplotlib.figure.Figure at 0x114263b38>"
      ]
     },
     "metadata": {},
     "output_type": "display_data"
    },
    {
     "data": {
      "text/plain": [
       "<sympy.plotting.plot.Plot at 0x114263e48>"
      ]
     },
     "execution_count": 86,
     "metadata": {},
     "output_type": "execute_result"
    }
   ],
   "source": [
    "# 標準正規分布の積分\n",
    "p = exp(-x**2 / 2) / sqrt(2*pi)\n",
    "print('x<|ρ| ρ=1: {0}'.format(Integral(p, (x, -1, 1)).doit().evalf()))\n",
    "print('x<|ρ| ρ=2: {0}'.format(Integral(p, (x, -2, 2)).doit().evalf()))\n",
    "print('x<|ρ| ρ=3: {0}'.format(Integral(p, (x, -3, 3)).doit().evalf()))\n",
    "print('-∞<x<∞: {0}'.format(Integral(p, (x, S.NegativeInfinity, S.Infinity)).doit().evalf()))\n",
    "plot(p, xlim=[-5, 5])"
   ]
  },
  {
   "cell_type": "code",
   "execution_count": null,
   "metadata": {
    "collapsed": true
   },
   "outputs": [],
   "source": []
  }
 ],
 "metadata": {
  "kernelspec": {
   "display_name": "Python 3",
   "language": "python",
   "name": "python3"
  },
  "language_info": {
   "codemirror_mode": {
    "name": "ipython",
    "version": 3
   },
   "file_extension": ".py",
   "mimetype": "text/x-python",
   "name": "python",
   "nbconvert_exporter": "python",
   "pygments_lexer": "ipython3",
   "version": "3.6.1"
  }
 },
 "nbformat": 4,
 "nbformat_minor": 2
}
